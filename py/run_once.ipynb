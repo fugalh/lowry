{
 "cells": [
  {
   "cell_type": "markdown",
   "id": "a5ce0a16",
   "metadata": {},
   "source": [
    "Run this once to set up dependencies."
   ]
  },
  {
   "cell_type": "code",
   "execution_count": 2,
   "id": "cca06525",
   "metadata": {},
   "outputs": [
    {
     "name": "stdout",
     "output_type": "stream",
     "text": [
      "3.9.7 (default, Oct 19 2021, 14:09:18) \n",
      "[Clang 12.0.5 (clang-1205.0.22.9)]\n"
     ]
    }
   ],
   "source": [
    "import sys\n",
    "print(sys.version)"
   ]
  },
  {
   "cell_type": "code",
   "execution_count": 3,
   "id": "f2511867-a16e-4d42-b2e0-7d06ff23df01",
   "metadata": {},
   "outputs": [
    {
     "name": "stdout",
     "output_type": "stream",
     "text": [
      "/Users/fugalh/src/brew/opt/python@3.9/bin/python3.9\n"
     ]
    }
   ],
   "source": [
    "print(sys.executable)"
   ]
  },
  {
   "cell_type": "code",
   "execution_count": 4,
   "id": "621a0241-b662-41d6-afb3-5a9ac05fdeb0",
   "metadata": {},
   "outputs": [
    {
     "name": "stdout",
     "output_type": "stream",
     "text": [
      "\u001b[33mDEPRECATION: Configuring installation scheme with distutils config files is deprecated and will no longer work in the near future. If you are using a Homebrew or Linuxbrew Python, please see discussion at https://github.com/Homebrew/homebrew-core/issues/76621\u001b[0m\n",
      "Requirement already satisfied: numpy in /Users/fugalh/src/brew/lib/python3.9/site-packages (1.23.5)\n",
      "Requirement already satisfied: pint in /Users/fugalh/src/brew/lib/python3.9/site-packages (0.20.1)\n",
      "Requirement already satisfied: matplotlib in /Users/fugalh/src/brew/lib/python3.9/site-packages (3.6.2)\n",
      "Requirement already satisfied: mpld3 in /Users/fugalh/src/brew/lib/python3.9/site-packages (0.5.8)\n",
      "Requirement already satisfied: kiwisolver>=1.0.1 in /Users/fugalh/src/brew/lib/python3.9/site-packages (from matplotlib) (1.4.4)\n",
      "Requirement already satisfied: python-dateutil>=2.7 in /Users/fugalh/Library/Python/3.9/lib/python/site-packages (from matplotlib) (2.8.2)\n",
      "Requirement already satisfied: cycler>=0.10 in /Users/fugalh/src/brew/lib/python3.9/site-packages (from matplotlib) (0.11.0)\n",
      "Requirement already satisfied: packaging>=20.0 in /Users/fugalh/Library/Python/3.9/lib/python/site-packages (from matplotlib) (21.3)\n",
      "Requirement already satisfied: pyparsing>=2.2.1 in /Users/fugalh/Library/Python/3.9/lib/python/site-packages (from matplotlib) (3.0.9)\n",
      "Requirement already satisfied: fonttools>=4.22.0 in /Users/fugalh/src/brew/lib/python3.9/site-packages (from matplotlib) (4.38.0)\n",
      "Requirement already satisfied: contourpy>=1.0.1 in /Users/fugalh/src/brew/lib/python3.9/site-packages (from matplotlib) (1.0.6)\n",
      "Requirement already satisfied: pillow>=6.2.0 in /Users/fugalh/src/brew/lib/python3.9/site-packages (from matplotlib) (9.3.0)\n",
      "Requirement already satisfied: jinja2 in /Users/fugalh/src/brew/lib/python3.9/site-packages (from mpld3) (3.1.2)\n",
      "Requirement already satisfied: six>=1.5 in /Users/fugalh/Library/Python/3.9/lib/python/site-packages (from python-dateutil>=2.7->matplotlib) (1.16.0)\n",
      "Requirement already satisfied: MarkupSafe>=2.0 in /Users/fugalh/src/brew/lib/python3.9/site-packages (from jinja2->mpld3) (2.1.1)\n",
      "\u001b[33mWARNING: You are using pip version 21.2.4; however, version 22.3.1 is available.\n",
      "You should consider upgrading via the '/Users/fugalh/src/brew/opt/python@3.9/bin/python3.9 -m pip install --upgrade pip' command.\u001b[0m\n"
     ]
    }
   ],
   "source": [
    "!{sys.executable} -m pip install numpy pint matplotlib mpld3"
   ]
  },
  {
   "cell_type": "code",
   "execution_count": 5,
   "id": "f33d4d19-17d5-46ff-8e6c-fc4a749299c4",
   "metadata": {},
   "outputs": [],
   "source": [
    "import lowry"
   ]
  }
 ],
 "metadata": {
  "kernelspec": {
   "display_name": "Python 3.9.7 64-bit",
   "language": "python",
   "name": "python3"
  },
  "language_info": {
   "codemirror_mode": {
    "name": "ipython",
    "version": 3
   },
   "file_extension": ".py",
   "mimetype": "text/x-python",
   "name": "python",
   "nbconvert_exporter": "python",
   "pygments_lexer": "ipython3",
   "version": "3.9.7"
  },
  "vscode": {
   "interpreter": {
    "hash": "bc80afb9dcef4e3d4407cac1bf8e13ffe459484a0ae51ad2c06a74fa9787ca36"
   }
  }
 },
 "nbformat": 4,
 "nbformat_minor": 5
}
