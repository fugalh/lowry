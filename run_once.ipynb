{
 "cells": [
  {
   "cell_type": "markdown",
   "id": "a5ce0a16",
   "metadata": {},
   "source": [
    "Run this once to set up dependencies."
   ]
  },
  {
   "cell_type": "code",
   "execution_count": null,
   "id": "cca06525",
   "metadata": {},
   "outputs": [],
   "source": [
    "import sys\n",
    "print(sys.version)"
   ]
  },
  {
   "cell_type": "code",
   "execution_count": null,
   "id": "f2511867-a16e-4d42-b2e0-7d06ff23df01",
   "metadata": {},
   "outputs": [],
   "source": [
    "print(sys.executable)"
   ]
  },
  {
   "cell_type": "code",
   "execution_count": null,
   "id": "621a0241-b662-41d6-afb3-5a9ac05fdeb0",
   "metadata": {},
   "outputs": [],
   "source": [
    "!{sys.executable} -m pip install numpy pint matplotlib mpld3 pandas geopandas"
   ]
  },
  {
   "cell_type": "code",
   "execution_count": null,
   "id": "f33d4d19-17d5-46ff-8e6c-fc4a749299c4",
   "metadata": {},
   "outputs": [],
   "source": [
    "import lowry"
   ]
  }
 ],
 "metadata": {
  "kernelspec": {
   "display_name": "Python 3 (ipykernel)",
   "language": "python",
   "name": "python3"
  },
  "language_info": {
   "codemirror_mode": {
    "name": "ipython",
    "version": 3
   },
   "file_extension": ".py",
   "mimetype": "text/x-python",
   "name": "python",
   "nbconvert_exporter": "python",
   "pygments_lexer": "ipython3",
   "version": "3.9.7"
  },
  "vscode": {
   "interpreter": {
    "hash": "bc80afb9dcef4e3d4407cac1bf8e13ffe459484a0ae51ad2c06a74fa9787ca36"
   }
  }
 },
 "nbformat": 4,
 "nbformat_minor": 5
}
