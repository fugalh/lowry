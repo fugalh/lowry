{
 "cells": [
  {
   "cell_type": "markdown",
   "id": "a5ce0a16",
   "metadata": {},
   "source": [
    "Run this once to set up dependencies."
   ]
  },
  {
   "cell_type": "code",
   "execution_count": 1,
   "id": "cca06525",
   "metadata": {},
   "outputs": [
    {
     "name": "stdout",
     "output_type": "stream",
     "text": [
      "3.8.13 | packaged by conda-forge | (default, Mar 25 2022, 06:05:47) \n",
      "[Clang 12.0.1 ]\n"
     ]
    }
   ],
   "source": [
    "import sys\n",
    "print(sys.version)"
   ]
  },
  {
   "cell_type": "code",
   "execution_count": 2,
   "id": "f2511867-a16e-4d42-b2e0-7d06ff23df01",
   "metadata": {},
   "outputs": [
    {
     "name": "stdout",
     "output_type": "stream",
     "text": [
      "/Users/fugalh/Library/jupyterlab-desktop/jlab_server/bin/python\n"
     ]
    }
   ],
   "source": [
    "print(sys.executable)"
   ]
  },
  {
   "cell_type": "code",
   "execution_count": 3,
   "id": "621a0241-b662-41d6-afb3-5a9ac05fdeb0",
   "metadata": {},
   "outputs": [
    {
     "name": "stdout",
     "output_type": "stream",
     "text": [
      "Requirement already satisfied: numpy in /Users/fugalh/Library/jupyterlab-desktop/jlab_server/lib/python3.8/site-packages (1.23.4)\n",
      "Requirement already satisfied: pint in /Users/fugalh/Library/jupyterlab-desktop/jlab_server/lib/python3.8/site-packages (0.20.1)\n",
      "Requirement already satisfied: matplotlib in /Users/fugalh/Library/jupyterlab-desktop/jlab_server/lib/python3.8/site-packages (3.6.2)\n",
      "Collecting mpld3\n",
      "  Using cached mpld3-0.5.8-py3-none-any.whl (201 kB)\n",
      "Requirement already satisfied: fonttools>=4.22.0 in /Users/fugalh/Library/jupyterlab-desktop/jlab_server/lib/python3.8/site-packages (from matplotlib) (4.38.0)\n",
      "Requirement already satisfied: cycler>=0.10 in /Users/fugalh/Library/jupyterlab-desktop/jlab_server/lib/python3.8/site-packages (from matplotlib) (0.11.0)\n",
      "Requirement already satisfied: packaging>=20.0 in /Users/fugalh/Library/jupyterlab-desktop/jlab_server/lib/python3.8/site-packages (from matplotlib) (21.3)\n",
      "Requirement already satisfied: contourpy>=1.0.1 in /Users/fugalh/Library/jupyterlab-desktop/jlab_server/lib/python3.8/site-packages (from matplotlib) (1.0.6)\n",
      "Requirement already satisfied: kiwisolver>=1.0.1 in /Users/fugalh/Library/jupyterlab-desktop/jlab_server/lib/python3.8/site-packages (from matplotlib) (1.4.4)\n",
      "Requirement already satisfied: pyparsing>=2.2.1 in /Users/fugalh/Library/jupyterlab-desktop/jlab_server/lib/python3.8/site-packages (from matplotlib) (3.0.9)\n",
      "Requirement already satisfied: python-dateutil>=2.7 in /Users/fugalh/Library/jupyterlab-desktop/jlab_server/lib/python3.8/site-packages (from matplotlib) (2.8.2)\n",
      "Requirement already satisfied: pillow>=6.2.0 in /Users/fugalh/Library/jupyterlab-desktop/jlab_server/lib/python3.8/site-packages (from matplotlib) (9.2.0)\n",
      "Requirement already satisfied: jinja2 in /Users/fugalh/Library/jupyterlab-desktop/jlab_server/lib/python3.8/site-packages (from mpld3) (3.1.2)\n",
      "Requirement already satisfied: six>=1.5 in /Users/fugalh/Library/jupyterlab-desktop/jlab_server/lib/python3.8/site-packages (from python-dateutil>=2.7->matplotlib) (1.16.0)\n",
      "Requirement already satisfied: MarkupSafe>=2.0 in /Users/fugalh/Library/jupyterlab-desktop/jlab_server/lib/python3.8/site-packages (from jinja2->mpld3) (2.1.1)\n",
      "Installing collected packages: mpld3\n",
      "Successfully installed mpld3-0.5.8\n"
     ]
    }
   ],
   "source": [
    "!{sys.executable} -m pip install numpy pint matplotlib mpld3"
   ]
  },
  {
   "cell_type": "code",
   "execution_count": 4,
   "id": "f33d4d19-17d5-46ff-8e6c-fc4a749299c4",
   "metadata": {},
   "outputs": [],
   "source": [
    "import lowry"
   ]
  }
 ],
 "metadata": {
  "kernelspec": {
   "display_name": "Python 3 (ipykernel)",
   "language": "python",
   "name": "python3"
  },
  "language_info": {
   "codemirror_mode": {
    "name": "ipython",
    "version": 3
   },
   "file_extension": ".py",
   "mimetype": "text/x-python",
   "name": "python",
   "nbconvert_exporter": "python",
   "pygments_lexer": "ipython3",
   "version": "3.8.13"
  },
  "vscode": {
   "interpreter": {
    "hash": "bc80afb9dcef4e3d4407cac1bf8e13ffe459484a0ae51ad2c06a74fa9787ca36"
   }
  }
 },
 "nbformat": 4,
 "nbformat_minor": 5
}
